{
 "cells": [
  {
   "cell_type": "code",
   "execution_count": 565,
   "metadata": {
    "scrolled": true
   },
   "outputs": [],
   "source": [
    "import numpy as np\n",
    "import healpy as hp\n",
    "import matplotlib.pyplot as plt\n",
    "\n",
    "#Not considering the beam function as well as taking the mass of all the parameters to be unity"
   ]
  },
  {
   "cell_type": "code",
   "execution_count": 566,
   "metadata": {},
   "outputs": [],
   "source": [
    "#Cls and alms- l Cls and (l+1)*(l+2)/2 alms                                                                                                                                                                                                                                                                                                                                                                                                            "
   ]
  },
  {
   "cell_type": "code",
   "execution_count": 567,
   "metadata": {},
   "outputs": [],
   "source": [
    "#Func to convert index n to l,m\n",
    "def ntolm(n):\n",
    "    lt = (np.sqrt(8.0*n+1)-1.0)/2.0\n",
    "    l = int(lt)\n",
    "    m = int(n-l*(l+1)/2)\n",
    "    return l,m\n",
    "    "
   ]
  },
  {
   "cell_type": "code",
   "execution_count": 568,
   "metadata": {},
   "outputs": [],
   "source": [
    "#Function to convert l,m to n\n",
    "def lmton(l,m):\n",
    "    n = int(l*(l+1)/2 + m)\n",
    "    return n"
   ]
  },
  {
   "cell_type": "code",
   "execution_count": 569,
   "metadata": {},
   "outputs": [],
   "source": [
    "#functin to calculate the Cls of given alms\n",
    "def cl_realize(lmax,almr,almi):\n",
    "    Cl = np.ndarray(shape=(lmax+1))\n",
    "    Cl[0]=0.0\n",
    "    Cl[1]=0.0\n",
    "    for l in np.arange(2,lmax+1,1):\n",
    "        k = lmton(l,0)\n",
    "        temp = almr[k]**2\n",
    "        for m in np.arange(1,l+1,1):\n",
    "            k = lmton(l,m)\n",
    "            temp1 = 2*(almr[k]**2+almi[k]**2)\n",
    "            temp = temp+temp1\n",
    "        Cl[l]=temp/(2*l+1)\n",
    "    return Cl\n",
    "    "
   ]
  },
  {
   "cell_type": "code",
   "execution_count": 570,
   "metadata": {},
   "outputs": [],
   "source": [
    "def mass_cl(l, Cl, Nl):\n",
    "    return (0.5*(2*l+1)/(Cl+Nl)**2)**(-1)"
   ]
  },
  {
   "cell_type": "code",
   "execution_count": 571,
   "metadata": {},
   "outputs": [],
   "source": [
    "def mass_alm(Cl, Nl, no_alms):\n",
    "    m_almr = np.ndarray(shape = (no_alms))\n",
    "    m_almi = np.ndarray(shape = (no_alms))\n",
    "    for i in np.arange(3, no_alms, 1):\n",
    "        l,m = ntolm(i)\n",
    "        if m == 0:\n",
    "            m_almr[i] = 1.0/Cl[l] + 1.0/Nl[l]\n",
    "            m_almi[i] = 1.0\n",
    "        else:\n",
    "            m_almr[i] = 2.0/Cl[l] + 2.0/Nl[l]\n",
    "            m_almi[i] = 2.0/Cl[l] + 2.0/Nl[l]\n",
    "    return m_almr, m_almi"
   ]
  },
  {
   "cell_type": "code",
   "execution_count": 572,
   "metadata": {},
   "outputs": [],
   "source": [
    "#Defining the gradients of potential\n",
    "#w.r.to alms\n",
    "\n",
    "def PEalm(n,cl,almr,almi,dalmr,dalmi,noise):\n",
    "    pdotr = np.ndarray(shape=(n))\n",
    "    pdoti = np.ndarray(shape=(n))\n",
    "    for k in range(n):\n",
    "        l,m = ntolm(k)\n",
    "        if m==0:\n",
    "            pdoti[k]=0\n",
    "            pdotr[k]= almr[k]/cl[l] - (dalmr[k]-almr[k])/noise[l]\n",
    "        else:\n",
    "            pdoti[k]=almi[k]/cl[l] - (dalmi[k]-almi[k])/noise[l]\n",
    "            pdotr[k]= almr[k]/cl[l] - (dalmr[k]-almr[k])/noise[l]\n",
    "    return pdotr,pdoti        \n",
    "\n",
    "\n",
    "#w.r.to Cl\n",
    "def PEcl(lmax,cl,cl_realize):\n",
    "    pdotcl=np.ndarray(shape=(lmax+1))\n",
    "    pdotcl[0]=0\n",
    "    pdotcl[1]=0\n",
    "    l = np.ndarray(shape=(lmax+1))\n",
    "    for i in range(lmax):\n",
    "        l[i]=i\n",
    "    pdotcl[2:]=(l[2:]+0.5)*(1/cl[2:])*(1-(cl_realize[2:])/cl[2:])\n",
    "    return pdotcl\n",
    "    \n",
    "    "
   ]
  },
  {
   "cell_type": "code",
   "execution_count": 573,
   "metadata": {},
   "outputs": [],
   "source": [
    "#Defining the kinetic energy\n",
    "def KE(palmr,palmi,pcl,n,mass_almr,mass_almi,mass_cl):\n",
    "    ke = np.sum(np.square(palmr[2:])/mass_almr[2:])+np.sum(np.square(pcl[2:])/mass_cl[2:])\n",
    "    ke = ke/2.0\n",
    "    ke1=0.0\n",
    "    for i in range(n):\n",
    "        l,m=ntolm(n)\n",
    "        if m!=0:\n",
    "            ke1=0.5*np.square(palmi[i])/mass_almi[2:]+ke1\n",
    "        ke=ke+np.sum(ke1)\n",
    "    return ke\n",
    "    \n",
    "    "
   ]
  },
  {
   "cell_type": "code",
   "execution_count": 574,
   "metadata": {},
   "outputs": [],
   "source": [
    "#Defining the potential energy\n",
    "def pe(dcl,cl,cl_realize,lmax,noise):\n",
    "    pe = np.sum(0.5*dcl[2:]/noise[2:])\n",
    "    l = np.ndarray(shape=(lmax+1))\n",
    "    for i in range(lmax):\n",
    "        l[i]=i\n",
    "    pe = pe + (l[2:]+0.5)*((np.log(cl[2:]))+ cl_realize[2:]/cl[2:])\n",
    "    pe=np.sum(pe)\n",
    "    return pe\n",
    "    "
   ]
  },
  {
   "cell_type": "code",
   "execution_count": 575,
   "metadata": {},
   "outputs": [],
   "source": [
    "#Defining the auxiliarry varibales-momentum for Cl\n",
    "def momentum_cl(lmax):\n",
    "    return np.random.normal(0,1,lmax)"
   ]
  },
  {
   "cell_type": "code",
   "execution_count": 576,
   "metadata": {},
   "outputs": [],
   "source": [
    "#Defining the auxiliarry varibales-momentum for alms\n",
    "def momentum_alm(n):\n",
    "    palm_r=np.random.normal(0,1,n)\n",
    "    palm_i=np.random.normal(0,1,n)\n",
    "    return palm_i, palm_r\n",
    "    "
   ]
  },
  {
   "cell_type": "code",
   "execution_count": 577,
   "metadata": {},
   "outputs": [],
   "source": [
    "#Trial power spectra - constant power spectrum\n",
    "lmax=20\n",
    "nside=64\n",
    "l=np.arange(0,lmax+1,1)\n",
    "Cl_theory=np.ndarray(shape=(lmax+1))\n",
    "Cl_theory[0]=0\n",
    "Cl_theory[1]=0\n",
    "#constant power spectrum nope\n",
    "Cl_theory[2:]= 1.0/l[2:]**(2)\n",
    "#Try exponential or some power law next"
   ]
  },
  {
   "cell_type": "code",
   "execution_count": 578,
   "metadata": {},
   "outputs": [
    {
     "data": {
      "text/plain": [
       "Text(0, 0.5, '$C_{l}$')"
      ]
     },
     "execution_count": 578,
     "metadata": {},
     "output_type": "execute_result"
    },
    {
     "data": {
      "image/png": "[encoded data removed]",
      "text/plain": [
       "<Figure size 432x288 with 1 Axes>"
      ]
     },
     "metadata": {
      "needs_background": "light"
     },
     "output_type": "display_data"
    }
   ],
   "source": [
    "#Plotting theoretical power spectrum\n",
    "plt.plot(l[2:],Cl_theory[2:])\n",
    "plt.xlabel('l')\n",
    "plt.ylabel(r'$C_{l}$')"
   ]
  },
  {
   "cell_type": "code",
   "execution_count": 579,
   "metadata": {},
   "outputs": [],
   "source": [
    "#noise spectrum - constant noise\n",
    "N = np.ndarray(shape=(lmax+1))\n",
    "N[0]=0\n",
    "N[1]=0\n",
    "N[2:]=np.random.normal(0,0.01,lmax-1)"
   ]
  },
  {
   "cell_type": "code",
   "execution_count": 580,
   "metadata": {},
   "outputs": [
    {
     "name": "stderr",
     "output_type": "stream",
     "text": [
      "<ipython-input-580-8c9c0b12b139>:2: HealpyDeprecationWarning: \"verbose\" was deprecated in version 1.15.0 and will be removed in a future version. \n",
      "  map_sig,alm_sig=hp.synfast(cls=Cl_theory,nside=nside,lmax=lmax,alm=True,\n"
     ]
    }
   ],
   "source": [
    "#Generate Realization alms for the theoretical Cl using healpy\n",
    "map_sig,alm_sig=hp.synfast(cls=Cl_theory,nside=nside,lmax=lmax,alm=True,\n",
    "    pol=False, pixwin=False, fwhm=0.0, sigma=None, new=False, verbose=True)\n",
    "#Generate realization angular power spectrum using healpy using the alms above\n",
    "Cl_realiz=hp.anafast(map_sig,lmax=lmax,alm=False, pol=False)"
   ]
  },
  {
   "cell_type": "code",
   "execution_count": 581,
   "metadata": {},
   "outputs": [
    {
     "data": {
      "text/plain": [
       "[<matplotlib.lines.Line2D at 0x7fed022327f0>]"
      ]
     },
     "execution_count": 581,
     "metadata": {},
     "output_type": "execute_result"
    },
    {
     "data": {
      "image/png": "[encoded data removed]",
      "text/plain": [
       "<Figure size 432x288 with 1 Axes>"
      ]
     },
     "metadata": {
      "needs_background": "light"
     },
     "output_type": "display_data"
    }
   ],
   "source": [
    "#Plotting the theory and the realization Cl\n",
    "plt.plot(l[2:],Cl_theory[2:],color='blue')\n",
    "plt.plot(l[2:],Cl_realiz[2:],color='black')"
   ]
  },
  {
   "cell_type": "code",
   "execution_count": 582,
   "metadata": {},
   "outputs": [
    {
     "name": "stderr",
     "output_type": "stream",
     "text": [
      "<ipython-input-582-5657559d5de0>:2: HealpyDeprecationWarning: \"verbose\" was deprecated in version 1.15.0 and will be removed in a future version. \n",
      "  map_noise,alm_noise=hp.synfast(cls=N,nside=nside,lmax=lmax,alm=True,\n"
     ]
    }
   ],
   "source": [
    "#To define the data we need noise realization too\n",
    "map_noise,alm_noise=hp.synfast(cls=N,nside=nside,lmax=lmax,alm=True,\n",
    "    pol=False, pixwin=False, fwhm=0.0, sigma=None, new=False, verbose=True)\n",
    "#Generate noise realization angular power spectrum using healpy\n",
    "noise_realiz=hp.anafast(map_noise,lmax=lmax,alm=False, pol=False)"
   ]
  },
  {
   "cell_type": "code",
   "execution_count": 583,
   "metadata": {},
   "outputs": [],
   "source": [
    "#DAta=signal plus noise\n",
    "map_data=map_sig+map_noise\n",
    "alm_data=alm_sig+alm_noise"
   ]
  },
  {
   "cell_type": "code",
   "execution_count": 601,
   "metadata": {},
   "outputs": [],
   "source": [
    "#Getting the data Cl\n",
    "Cl_data=hp.anafast(map_data,lmax=lmax,alm=False,pol=False)"
   ]
  },
  {
   "cell_type": "code",
   "execution_count": 602,
   "metadata": {},
   "outputs": [],
   "source": [
    "#compute data angular power spectrum Shabbirs method-basically gives the same values as anafast\n",
    "#data_cl = hp.alm2cl( alms1 = alm_data, alms2=None, lmax=lmax, nspec=None)\n"
   ]
  },
  {
   "cell_type": "code",
   "execution_count": 603,
   "metadata": {},
   "outputs": [
    {
     "data": {
      "text/plain": [
       "<matplotlib.legend.Legend at 0x7fed01cf31f0>"
      ]
     },
     "execution_count": 603,
     "metadata": {},
     "output_type": "execute_result"
    },
    {
     "data": {
      "image/png": "[encoded data removed]",
      "text/plain": [
       "<Figure size 432x288 with 1 Axes>"
      ]
     },
     "metadata": {
      "needs_background": "light"
     },
     "output_type": "display_data"
    }
   ],
   "source": [
    "#Plottind Cl_data,Cl_realization and Cl_theory\n",
    "plt.plot(l[2:],Cl_theory[2:],color='blue',label='theory')\n",
    "plt.plot(l[2:],Cl_realiz[2:],color='red',label='realization')\n",
    "plt.scatter(l[2:],Cl_data[2:],color='black',label='data')\n",
    "plt.xlabel('l')\n",
    "plt.ylabel(r'$C_{l}$')\n",
    "plt.legend()"
   ]
  },
  {
   "cell_type": "code",
   "execution_count": 604,
   "metadata": {},
   "outputs": [],
   "source": [
    "#No.of alms(negative m's are not counted because of contraint)\n",
    "no_alms = int((lmax+1)*(lmax+2)/2)#Momentum and position variables of alms"
   ]
  },
  {
   "cell_type": "code",
   "execution_count": 608,
   "metadata": {},
   "outputs": [],
   "source": [
    "#main program\n",
    "#initialise variables\n",
    "epsi=0.005\n",
    "lp_steps=100\n",
    "N_samples = 10000\n",
    "kount = 0    #to count the accepted steps"
   ]
  },
  {
   "cell_type": "code",
   "execution_count": 609,
   "metadata": {},
   "outputs": [],
   "source": [
    "#The mcmc chain is stored in these arrays\n",
    "sample_almr =np.ndarray(shape=(no_alms,N_samples)) \n",
    "sample_almi =np.ndarray(shape=(no_alms,N_samples)) \n",
    "sample_cl = np.ndarray(shape=(lmax+1,N_samples))"
   ]
  },
  {
   "cell_type": "code",
   "execution_count": 610,
   "metadata": {},
   "outputs": [],
   "source": [
    "#mass matrix for Cl\n",
    "l=np.arange(0,lmax+1,1)\n",
    "m_cl = np.ndarray(shape = (lmax+1))\n",
    "m_cl.fill(1.0)\n",
    "m_cl[2:] = mass_cl(l[2:],Cl_data[2:],noise_realiz[2:])"
   ]
  },
  {
   "cell_type": "code",
   "execution_count": 611,
   "metadata": {},
   "outputs": [],
   "source": [
    "#mass matrix for alms\n",
    "m_almr, m_almi = mass_alm(Cl_data, N, no_alms) #use signal realization Cl\n",
    "#m_almr, m_almi = mass_alm(Cl_th, Nl, elmax) #one can also use theory Cl"
   ]
  },
  {
   "cell_type": "code",
   "execution_count": 612,
   "metadata": {},
   "outputs": [],
   "source": [
    "#Getting data alm from helpy and arranging it into real and complex arrays\n",
    "dlm = np.ndarray(shape = (lmax+1, lmax+1), dtype = complex)\n",
    "\n",
    "d_almr=np.ndarray(shape=(no_alms))\n",
    "d_almi=np.ndarray(shape=(no_alms))\n",
    "\n",
    "#first read the 1D indexed alms of healpy, arranged according to healpy convention\n",
    "index = 0\n",
    "for m in np.arange(0, lmax+1, 1):\n",
    "    for l in np.arange(m, lmax+1, 1):\n",
    "        dlm[l,m] = alm_data[index]\n",
    "        index += 1\n",
    "index = 0\n",
    "for i in np.arange(0, lmax+1, 1):\n",
    "    for j in np.arange(0, i + 1, 1):\n",
    "        d_almr[index] = np.real(dlm[i,j])\n",
    "        d_almi[index] = np.imag(dlm[i,j])\n",
    "        index += 1\n"
   ]
  },
  {
   "cell_type": "code",
   "execution_count": 613,
   "metadata": {},
   "outputs": [],
   "source": [
    "#array for the momentum chain\n",
    "p_almr = np.ndarray(shape=(no_alms,N_samples)) \n",
    "p_almi = np.ndarray(shape=(no_alms,N_samples)) \n",
    "p_cl = np.ndarray(shape=(lmax+1,N_samples)) \n",
    "kr = np.ndarray(shape=(no_alms))\n",
    "ki = np.ndarray(shape=(no_alms))\n",
    "k1r = np.ndarray(shape=(no_alms))\n",
    "k1i = np.ndarray(shape=(no_alms))\n",
    "\n",
    "#initial value for the samples\n",
    "sample_almr[:,0]=0.1\n",
    "sample_almi[:,0]=0.1\n",
    "sample_cl[:,0]=0.1\n",
    "\n",
    "#temporaty variables for leapfrog\n",
    "ptemp_almr=np.ndarray(shape=(no_alms,lp_steps))\n",
    "ptemp_almi=np.ndarray(shape=(no_alms,lp_steps))\n",
    "ptemp_cl=np.ndarray(shape=(lmax+1,lp_steps))\n",
    "temp_almr=np.ndarray(shape=(no_alms))\n",
    "temp_almi=np.ndarray(shape=(no_alms))\n",
    "temp_cl=np.ndarray(shape=(lmax+1))\n",
    "\n",
    "xtemp_almr=np.ndarray(shape=(no_alms,lp_steps))\n",
    "xtemp_almi=np.ndarray(shape=(no_alms,lp_steps))\n",
    "xtemp_cl=np.ndarray(shape=(lmax+1,lp_steps))\n",
    "\n",
    "#noise covariance\n",
    "ncovar = np.ndarray(shape=(lmax+1))\n",
    "ncovar.fill(0.0001)\n",
    "ncovar[0]=0.0\n",
    "ncovar[1]=0.0"
   ]
  },
  {
   "cell_type": "code",
   "execution_count": 614,
   "metadata": {},
   "outputs": [
    {
     "name": "stderr",
     "output_type": "stream",
     "text": [
      "<ipython-input-572-841fe245b3ae>:11: RuntimeWarning: divide by zero encountered in double_scalars\n",
      "  pdotr[k]= almr[k]/cl[l] - (dalmr[k]-almr[k])/noise[l]\n",
      "<ipython-input-572-841fe245b3ae>:13: RuntimeWarning: divide by zero encountered in double_scalars\n",
      "  pdoti[k]=almi[k]/cl[l] - (dalmi[k]-almi[k])/noise[l]\n",
      "<ipython-input-572-841fe245b3ae>:14: RuntimeWarning: divide by zero encountered in double_scalars\n",
      "  pdotr[k]= almr[k]/cl[l] - (dalmr[k]-almr[k])/noise[l]\n",
      "<ipython-input-614-60656d266f19>:22: RuntimeWarning: invalid value encountered in subtract\n",
      "  ptemp_almr[:,j+1] = temp_almr - (epsi*k1r/2)\n",
      "<ipython-input-614-60656d266f19>:23: RuntimeWarning: invalid value encountered in subtract\n",
      "  ptemp_almi[:,j+1] = temp_almi - (epsi*k1i/2)\n",
      "<ipython-input-573-766dab6d63a1>:3: RuntimeWarning: divide by zero encountered in true_divide\n",
      "  ke = np.sum(np.square(palmr[2:])/mass_almr[2:])+np.sum(np.square(pcl[2:])/mass_cl[2:])\n",
      "<ipython-input-574-f2a1b0558ea3>:7: RuntimeWarning: invalid value encountered in log\n",
      "  pe = pe + (l[2:]+0.5)*((np.log(cl[2:]))+ cl_realize[2:]/cl[2:])\n"
     ]
    },
    {
     "name": "stdout",
     "output_type": "stream",
     "text": [
      "Ratio of samples accepted to the total no.of samples\n",
      "0.9999\n"
     ]
    }
   ],
   "source": [
    "#The main program/the main loop\n",
    "for i in range(0,N_samples-1):\n",
    "    #initialising the auxiliary variable at every step\n",
    "    p_almi[:,i],p_almr[:,i]=momentum_alm(no_alms)\n",
    "    p_cl[:,i] = momentum_cl(lmax+1)\n",
    "    \n",
    "    #starting the leapfrog process\n",
    "    xtemp_almr[:,0]=sample_almr[:,i]\n",
    "    xtemp_almi[:,0]=sample_almi[:,i]\n",
    "    xtemp_cl[:,0]=sample_cl[:,i]\n",
    "    ptemp_almr[:,0]=p_almr[:,i]\n",
    "    ptemp_almi[:,0]=p_almi[:,i]\n",
    "    ptemp_cl[:,0]=p_cl[:,i]\n",
    "    dcl = cl_realize(lmax,d_almr-sample_almr[:,i],d_almi-sample_almi[:,i])\n",
    "    for j in range(0,lp_steps-1):\n",
    "        kr,ki = PEalm(no_alms,sample_cl[:,i],xtemp_almr[:,j],xtemp_almi[:,j],d_almr,d_almi,ncovar)\n",
    "        temp_almr = ptemp_almr[:,j]-epsi*kr/2\n",
    "        temp_almi = ptemp_almi[:,j]-epsi*ki/2\n",
    "        xtemp_almr[:,j+1] = xtemp_almr[:,j]+epsi*temp_almr\n",
    "        xtemp_almi[:,j+1] = xtemp_almi[:,j]+epsi*temp_almi\n",
    "        k1r,k1i = PEalm(no_alms,sample_cl[:,i],xtemp_almr[:,j+1],xtemp_almi[:,j+1],d_almr,d_almi,ncovar)\n",
    "        ptemp_almr[:,j+1] = temp_almr - (epsi*k1r/2)\n",
    "        ptemp_almi[:,j+1] = temp_almi - (epsi*k1i/2)\n",
    "        \n",
    "        kcl = PEcl(lmax,xtemp_cl[:,j],cl_realize(lmax,sample_almr[:,i],sample_almi[:,i]))\n",
    "        temp_cl = ptemp_cl[:,j]-epsi*kcl/2\n",
    "        xtemp_cl[:,j+1]=xtemp_cl[:,j]+epsi*temp_cl\n",
    "        k1cl = PEcl(lmax,xtemp_cl[:,j+1],cl_realize(lmax,sample_almr[:,i],sample_almi[:,i]))\n",
    "        ptemp_cl[:,j+1]=temp_cl - (epsi*k1cl/2)\n",
    "    dclstar = cl_realize(lmax,d_almr-xtemp_almr[:,lp_steps-1],d_almi-xtemp_almi[:,lp_steps-1])       \n",
    "    #Metropolis acceptance\n",
    "    kin = KE(p_almr[:,i],p_almi[:,i],p_cl[:,i],no_alms,m_almr,m_almi,m_cl)\n",
    "    pot = pe(dcl,sample_cl[:,0],cl_realize(lmax,sample_almr[:,i],sample_almi[:,i]),lmax,ncovar)\n",
    "    kin_star = KE(ptemp_almr[:,lp_steps-1],ptemp_almi[:,lp_steps-1],p_cl[:,lp_steps-1],no_alms,m_almr,m_almi,m_cl)\n",
    "    pot_star = pe(dclstar,xtemp_cl[:,lp_steps-1],cl_realize(lmax,xtemp_almr[:,lp_steps-1],xtemp_almi[:,lp_steps-1]),lmax,ncovar)\n",
    "    H = kin+pot\n",
    "    Hstar = kin_star+pot_star\n",
    "    ratio = Hstar/H\n",
    "    alpha = np.random.uniform()\n",
    "    if alpha<min(1,ratio):\n",
    "        sample_almr[:,i+1]=xtemp_almr[:,lp_steps-1]\n",
    "        sample_almi[:,i+1]=xtemp_almi[:,lp_steps-1]\n",
    "        sample_cl[:,i+1] = xtemp_cl[:,lp_steps-1]\n",
    "        kount = kount +1\n",
    "    else:\n",
    "        sample_almr[:,i+1]=sample_almr[:,i]\n",
    "        sample_almi[:,i+1]=sample_almi[:,i]\n",
    "        sample_cl[:,i+1] = sample_cl[:,i]\n",
    "            \n",
    "        \n",
    "print('Ratio of samples accepted to the total no.of samples')\n",
    "print(kount/N_samples)\n",
    "        \n",
    "\n",
    "\n",
    "    \n",
    "    \n",
    "    \n",
    "        \n",
    "    "
   ]
  },
  {
   "cell_type": "code",
   "execution_count": 615,
   "metadata": {},
   "outputs": [],
   "source": [
    "l=np.arange(0,lmax+1,1)\n",
    "burnin = 100\n",
    "Cl_bayes = np.ndarray(shape=(lmax+1))\n",
    "Cl_bayes1 = np.ndarray(shape=(lmax+1))\n"
   ]
  },
  {
   "cell_type": "code",
   "execution_count": 616,
   "metadata": {},
   "outputs": [
    {
     "data": {
      "text/plain": [
       "<matplotlib.legend.Legend at 0x7fed01ead400>"
      ]
     },
     "execution_count": 616,
     "metadata": {},
     "output_type": "execute_result"
    },
    {
     "data": {
      "image/png": "[encoded data removed]",
      "text/plain": [
       "<Figure size 432x288 with 1 Axes>"
      ]
     },
     "metadata": {
      "needs_background": "light"
     },
     "output_type": "display_data"
    }
   ],
   "source": [
    "#Plotting a few Cls\n",
    "for i in range(2,10):\n",
    "    #n = int(np.random.uniform(0,10))\n",
    "    plt.plot(sample_cl[i,burnin:],label=\"$C_{l}$\"+str(n))\n",
    "plt.xlabel('sequence number')\n",
    "plt.ylabel('$C_{l}$')   \n",
    "plt.legend()"
   ]
  },
  {
   "cell_type": "code",
   "execution_count": 1,
   "metadata": {},
   "outputs": [
    {
     "ename": "NameError",
     "evalue": "name 'lmax' is not defined",
     "output_type": "error",
     "traceback": [
      "\u001b[0;31m---------------------------------------------------------------------------\u001b[0m",
      "\u001b[0;31mNameError\u001b[0m                                 Traceback (most recent call last)",
      "\u001b[0;32m<ipython-input-1-8ad68644c26c>\u001b[0m in \u001b[0;36m<module>\u001b[0;34m\u001b[0m\n\u001b[0;32m----> 1\u001b[0;31m \u001b[0;32mfor\u001b[0m \u001b[0mi\u001b[0m \u001b[0;32min\u001b[0m \u001b[0mrange\u001b[0m\u001b[0;34m(\u001b[0m\u001b[0mlmax\u001b[0m\u001b[0;34m+\u001b[0m\u001b[0;36m1\u001b[0m\u001b[0;34m)\u001b[0m\u001b[0;34m:\u001b[0m\u001b[0;34m\u001b[0m\u001b[0;34m\u001b[0m\u001b[0m\n\u001b[0m\u001b[1;32m      2\u001b[0m     \u001b[0my\u001b[0m\u001b[0;34m,\u001b[0m \u001b[0mx\u001b[0m\u001b[0;34m,\u001b[0m \u001b[0m_\u001b[0m \u001b[0;34m=\u001b[0m \u001b[0mplt\u001b[0m\u001b[0;34m.\u001b[0m\u001b[0mhist\u001b[0m\u001b[0;34m(\u001b[0m\u001b[0msample_cl\u001b[0m\u001b[0;34m[\u001b[0m\u001b[0mi\u001b[0m\u001b[0;34m,\u001b[0m\u001b[0mburnin\u001b[0m\u001b[0;34m:\u001b[0m\u001b[0;34m]\u001b[0m\u001b[0;34m)\u001b[0m\u001b[0;34m\u001b[0m\u001b[0;34m\u001b[0m\u001b[0m\n\u001b[1;32m      3\u001b[0m     \u001b[0mCl_bayes\u001b[0m\u001b[0;34m[\u001b[0m\u001b[0mi\u001b[0m\u001b[0;34m]\u001b[0m \u001b[0;34m=\u001b[0m \u001b[0mx\u001b[0m\u001b[0;34m[\u001b[0m\u001b[0mnp\u001b[0m\u001b[0;34m.\u001b[0m\u001b[0mwhere\u001b[0m\u001b[0;34m(\u001b[0m\u001b[0my\u001b[0m \u001b[0;34m==\u001b[0m \u001b[0my\u001b[0m\u001b[0;34m.\u001b[0m\u001b[0mmax\u001b[0m\u001b[0;34m(\u001b[0m\u001b[0;34m)\u001b[0m\u001b[0;34m)\u001b[0m\u001b[0;34m]\u001b[0m\u001b[0;34m\u001b[0m\u001b[0;34m\u001b[0m\u001b[0m\n\u001b[1;32m      4\u001b[0m     \u001b[0mCl_bayes1\u001b[0m\u001b[0;34m[\u001b[0m\u001b[0mi\u001b[0m\u001b[0;34m]\u001b[0m \u001b[0;34m=\u001b[0m \u001b[0mnp\u001b[0m\u001b[0;34m.\u001b[0m\u001b[0mmean\u001b[0m\u001b[0;34m(\u001b[0m\u001b[0msample_cl\u001b[0m\u001b[0;34m[\u001b[0m\u001b[0mi\u001b[0m\u001b[0;34m,\u001b[0m\u001b[0mburnin\u001b[0m\u001b[0;34m:\u001b[0m\u001b[0;34m]\u001b[0m\u001b[0;34m)\u001b[0m\u001b[0;34m\u001b[0m\u001b[0;34m\u001b[0m\u001b[0m\n\u001b[1;32m      5\u001b[0m \u001b[0;34m\u001b[0m\u001b[0m\n",
      "\u001b[0;31mNameError\u001b[0m: name 'lmax' is not defined"
     ]
    }
   ],
   "source": [
    "for i in range(lmax+1):\n",
    "    y, x, _ = plt.hist(sample_cl[i,burnin:])\n",
    "    Cl_bayes[i] = x[np.where(y == y.max())]\n",
    "    Cl_bayes1[i] = np.mean(sample_cl[i,burnin:])\n",
    "    "
   ]
  },
  {
   "cell_type": "code",
   "execution_count": 599,
   "metadata": {},
   "outputs": [
    {
     "data": {
      "text/plain": [
       "Text(0, 0.5, 'Density')"
      ]
     },
     "execution_count": 599,
     "metadata": {},
     "output_type": "execute_result"
    },
    {
     "data": {
      "image/png": "[encoded data removed]",
      "text/plain": [
       "<Figure size 1080x432 with 2 Axes>"
      ]
     },
     "metadata": {
      "needs_background": "light"
     },
     "output_type": "display_data"
    }
   ],
   "source": [
    "#plotting the chain for alm\n",
    "plt.figure(figsize=(15, 6))\n",
    "plt.subplot(1,2,1)\n",
    "ll=5\n",
    "mm=5\n",
    "nn = lmton(ll,mm)\n",
    "plt.hist(sample_almr[n,burnin:],bins='auto',density=True)\n",
    "#plt.xlim(-3.0,0.0)\n",
    "plt.xlabel('almr')\n",
    "plt.ylabel('Density')\n",
    "plt.subplot(1,2,2)\n",
    "plt.hist(sample_almi[n,burnin:],bins='auto',density=True)\n",
    "#plt.xlim(-0.5,0.8)\n",
    "plt.xlabel('almi')\n",
    "plt.ylabel('Density')"
   ]
  },
  {
   "cell_type": "code",
   "execution_count": 600,
   "metadata": {},
   "outputs": [
    {
     "data": {
      "text/plain": [
       "<matplotlib.legend.Legend at 0x7fed01d16850>"
      ]
     },
     "execution_count": 600,
     "metadata": {},
     "output_type": "execute_result"
    },
    {
     "data": {
      "image/png": "[encoded data removed]",
      "text/plain": [
       "<Figure size 432x288 with 1 Axes>"
      ]
     },
     "metadata": {
      "needs_background": "light"
     },
     "output_type": "display_data"
    }
   ],
   "source": [
    "#summary stats - plotting the mean of the Cl chains\n",
    "\n",
    "#plt.plot(l[2:],Cl_theory[2:],color='red',label='Theory')\n",
    "#plt.plot(l[2:],Cl_realiz[2:],color='black',label='Realization')\n",
    "plt.plot(l[2:],Cl_data[2:],color='green',label='Data')\n",
    "plt.plot(l[2:14],Cl_bayes[2:14],label='HMC')\n",
    "#plt.plot(l[2:],Cl_theory[2:]+std,color='blue',label='Cosmic variance')\n",
    "#plt.plot(l[2:],Cl_theory[2:]-std,color='blue',label='Cosmic variance')\n",
    "plt.xlabel('l')\n",
    "plt.ylabel(r'$C_{l}$')\n",
    "plt.legend()"
   ]
  },
  {
   "cell_type": "code",
   "execution_count": 560,
   "metadata": {},
   "outputs": [
    {
     "data": {
      "text/plain": [
       "[<matplotlib.lines.Line2D at 0x7fed02ef3ee0>]"
      ]
     },
     "execution_count": 560,
     "metadata": {},
     "output_type": "execute_result"
    },
    {
     "data": {
      "image/png": "[encoded data removed]",
      "text/plain": [
       "<Figure size 432x288 with 1 Axes>"
      ]
     },
     "metadata": {
      "needs_background": "light"
     },
     "output_type": "display_data"
    }
   ],
   "source": [
    "plt.plot(l[2:],Cl_bayes[2:],label='HMC')\n",
    "plt.plot(l[2:],Cl_bayes1[2:],label='HMC')"
   ]
  },
  {
   "cell_type": "code",
   "execution_count": null,
   "metadata": {},
   "outputs": [],
   "source": []
  }
 ],
 "metadata": {
  "kernelspec": {
   "display_name": "Python 3",
   "language": "python",
   "name": "python3"
  },
  "language_info": {
   "codemirror_mode": {
    "name": "ipython",
    "version": 3
   },
   "file_extension": ".py",
   "mimetype": "text/x-python",
   "name": "python",
   "nbconvert_exporter": "python",
   "pygments_lexer": "ipython3",
   "version": "3.8.10"
  }
 },
 "nbformat": 4,
 "nbformat_minor": 5
}
